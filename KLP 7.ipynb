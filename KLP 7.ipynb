{
 "cells": [
  {
   "cell_type": "code",
   "execution_count": 6,
   "metadata": {},
   "outputs": [],
   "source": [
    "import requests\n",
    "from bs4 import BeautifulSoup\n",
    "import pandas as pd"
   ]
  },
  {
   "cell_type": "code",
   "execution_count": 2,
   "metadata": {},
   "outputs": [],
   "source": [
    "# Langkah 2: Fungsi untuk melakukan scraping data COVID-19 dari dashboard Kemkes\n",
    "def scrape_covid_dashboard():\n",
    "    url = 'https://dashboardcovid19.kemkes.go.id/'\n",
    "    response = requests.get(url)\n",
    "    \n",
    "    # Memeriksa status kode respons\n",
    "    print(f'Status Kode: {response.status_code}')\n",
    "    \n",
    "    # Memeriksa beberapa karakter awal dari HTML\n",
    "    print(response.text[:500])  # Menampilkan 500 karakter pertama dari respons HTML\n",
    "    \n",
    "    soup = BeautifulSoup(response.text, 'html.parser')\n",
    "    \n",
    "    # Ekstraksi data (ini hanya contoh, sesuaikan dengan struktur HTML aktual)\n",
    "    # Misalnya, kita akan mengambil jumlah kasus terkonfirmasi, sembuh, dan meninggal\n",
    "    data_kasus = {\n",
    "        'Kasus Terkonfirmasi': None,\n",
    "        'Kasus Sembuh': None,\n",
    "        'Kasus Meninggal': None\n",
    "    }\n",
    "    \n",
    "    # Anda perlu menyesuaikan selector CSS sesuai dengan elemen di halaman tersebut\n",
    "    data_kasus['Kasus Terkonfirmasi'] = soup.select_one('selector_jumlah_kasus_terkonfirmasi').text if soup.select_one('selector_jumlah_kasus_terkonfirmasi') else None\n",
    "    data_kasus['Kasus Sembuh'] = soup.select_one('selector_jumlah_kasus_sembuh').text if soup.select_one('selector_jumlah_kasus_sembuh') else None\n",
    "    data_kasus['Kasus Meninggal'] = soup.select_one('selector_jumlah_kasus_meninggal').text if soup.select_one('selector_jumlah_kasus_meninggal') else None\n",
    "    \n",
    "    return data_kasus"
   ]
  },
  {
   "cell_type": "code",
   "execution_count": 3,
   "metadata": {},
   "outputs": [
    {
     "name": "stdout",
     "output_type": "stream",
     "text": [
      "Status Kode: 200\n",
      "\r\n",
      "\n",
      "\n",
      "<!DOCTYPE html>\n",
      "<html lang=\"en\"> \n",
      "\n",
      "\n",
      "\n",
      "<head>\n",
      "    <title>DASHBOARD COVID-19</title>\n",
      "   \n",
      "    <!-- Meta -->\n",
      "    <meta charset=\"utf-8\">\n",
      "    <meta http-equiv=\"X-UA-Compatible\" content=\"IE=edge\">\n",
      "    <meta name=\"viewport\" content=\"width=device-width, initial-scale=1, maximum-scale=1.0, user-scalable=no\">\n",
      "    <meta name=\"description\" content=\"Tracking Covid-19\">\n",
      "    <meta name=\"keywords\" content=\"covid\">\n",
      "    <meta name=\"author\" content=\"mediaciptainformasi\">\n",
      "    <!-- Favicon icon -->\n",
      "    <link rel=\"\n"
     ]
    }
   ],
   "source": [
    "data_covid = scrape_covid_dashboard()"
   ]
  },
  {
   "cell_type": "code",
   "execution_count": 4,
   "metadata": {},
   "outputs": [
    {
     "name": "stdout",
     "output_type": "stream",
     "text": [
      "  Kasus Terkonfirmasi Kasus Sembuh Kasus Meninggal\n",
      "0                None         None            None\n"
     ]
    }
   ],
   "source": [
    "df_covid = pd.DataFrame([data_covid])\n",
    "print(df_covid)"
   ]
  },
  {
   "cell_type": "code",
   "execution_count": null,
   "metadata": {},
   "outputs": [],
   "source": []
  },
  {
   "cell_type": "code",
   "execution_count": null,
   "metadata": {},
   "outputs": [],
   "source": []
  }
 ],
 "metadata": {
  "kernelspec": {
   "display_name": "Python 3",
   "language": "python",
   "name": "python3"
  },
  "language_info": {
   "codemirror_mode": {
    "name": "ipython",
    "version": 3
   },
   "file_extension": ".py",
   "mimetype": "text/x-python",
   "name": "python",
   "nbconvert_exporter": "python",
   "pygments_lexer": "ipython3",
   "version": "3.7.6"
  }
 },
 "nbformat": 4,
 "nbformat_minor": 4
}
